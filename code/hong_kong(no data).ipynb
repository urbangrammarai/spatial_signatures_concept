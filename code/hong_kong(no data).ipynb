{
 "cells": [
  {
   "cell_type": "code",
   "execution_count": 1,
   "metadata": {},
   "outputs": [],
   "source": [
    "import requests\n",
    "import geopandas as gpd\n",
    "from download import download\n",
    "import osmnx as ox\n",
    "import momepy\n",
    "import libpysal\n",
    "import numpy as np\n",
    "import warnings\n",
    "import pandas as pd\n",
    "import tobler\n",
    "import pandana\n",
    "\n",
    "import utils.momepy\n",
    "import utils.tobler"
   ]
  },
  {
   "cell_type": "code",
   "execution_count": 2,
   "metadata": {},
   "outputs": [],
   "source": [
    "import warnings\n",
    "\n",
    "warnings.filterwarnings('ignore', message='.*initial implementation of Parquet.*')"
   ]
  },
  {
   "cell_type": "code",
   "execution_count": 3,
   "metadata": {},
   "outputs": [
    {
     "name": "stderr",
     "output_type": "stream",
     "text": [
      "/opt/conda/lib/python3.8/site-packages/geopandas/geodataframe.py:422: RuntimeWarning: Sequential read of iterator was interrupted. Resetting iterator. This can negatively impact the performance.\n",
      "  for feature in features_lst:\n"
     ]
    }
   ],
   "source": [
    "fua = gpd.read_file(\"../../urbangrammar_samba/sp_sig_concept/ghs_fua_2015/GHS_FUA_UCDB2015_GLOBE_R2019A_54009_1K_V1_0.gpkg\")\n",
    "fua_4326 = fua.to_crs(4326)\n",
    "fua_4326.geometry = fua_4326.buffer(0)  # fix geometry topology\n",
    "hk_fua = fua_4326[fua_4326.eFUA_name == 'Hong Kong'].geometry.iloc[0]"
   ]
  },
  {
   "cell_type": "code",
   "execution_count": 4,
   "metadata": {},
   "outputs": [
    {
     "data": {
      "image/svg+xml": [
       "<svg xmlns=\"http://www.w3.org/2000/svg\" xmlns:xlink=\"http://www.w3.org/1999/xlink\" width=\"100.0\" height=\"100.0\" viewBox=\"113.88201526292255 22.179503230355575 0.44500914614215503 0.3412648188634577\" preserveAspectRatio=\"xMinYMin meet\"><g transform=\"matrix(1,0,0,-1,0,44.70027127957461)\"><g><path fill-rule=\"evenodd\" fill=\"#66cc99\" stroke=\"#555555\" stroke-width=\"0.0089001829228431\" opacity=\"0.6\" d=\"M 113.9673968116802,22.345936994720596 L 113.99881009635817,22.345936994720596 L 113.99037017141025,22.329272644436408 L 113.97989985174722,22.329272644436408 L 113.9841184208968,22.33760472486149 L 113.9631770065259,22.33760472486149 L 113.9673968116802,22.345936994720596 z\" /><path fill-rule=\"evenodd\" fill=\"#66cc99\" stroke=\"#555555\" stroke-width=\"0.0089001829228431\" opacity=\"0.6\" d=\"M 113.9673968116802,22.345936994720596 L 113.94645462189489,22.345936994720596 L 113.95067566291556,22.354269454099718 L 113.9192612145615,22.354269454099718 L 113.92348310323334,22.362602103084864 L 113.91301123237174,22.362602103084864 L 113.91723474471036,22.37093494176204 L 113.90676248558692,22.37093494176204 L 113.91098762182409,22.379267970217292 L 113.90051497425382,22.379267970217292 L 113.90897050816916,22.395934596806345 L 113.89849708315003,22.395934596806345 L 113.90695989400686,22.412601983540807 L 113.9174340972155,22.412601983540807 L 113.92590574622015,22.429270131109792 L 113.93638072835937,22.429270131109792 L 113.94486122182818,22.445939040202752 L 113.9553369836395,22.445939040202752 L 113.96382632789664,22.462608711509503 L 113.97430287012205,22.462608711509503 L 113.98280107149942,22.479279145720177 L 113.99327839488129,22.479279145720177 L 113.99753091670836,22.487614649130244 L 114.00800863094702,22.487614649130244 L 114.01226356499993,22.49595034352524 L 114.04369788084361,22.49595034352524 L 114.04795601055861,22.504286228991546 L 114.0689130035778,22.504286228991546 L 114.06039720214036,22.487614649130244 L 114.0813526306177,22.487614649130244 L 114.07709698193635,22.479279145720177 L 114.08757430531824,22.479279145720177 L 114.08332028802731,22.470943833208704 L 114.11475108615973,22.470943833208704 L 114.11049791905222,22.462608711509503 L 114.12097446127763,22.462608711509503 L 114.11247341080943,22.445939040202752 L 114.12294917262076,22.445939040202752 L 114.11445542472622,22.429270131109792 L 114.13540538900467,22.429270131109792 L 114.13116076554654,22.420935962177897 L 114.14163535812781,22.420935962177897 L 114.13739236459705,22.412601983540807 L 114.14786656780568,22.412601983540807 L 114.14362520396769,22.404268195112337 L 114.15409901798897,22.404268195112337 L 114.1498592836094,22.395934596806345 L 114.16033270862854,22.395934596806345 L 114.15609460347326,22.3876011885367 L 114.16656763967542,22.3876011885367 L 114.14963383582452,22.354269454099718 L 114.19151976696324,22.354269454099718 L 114.19575174563467,22.362602103084864 L 114.22716735821943,22.362602103084864 L 114.23140251841336,22.37093494176204 L 114.24187477753681,22.37093494176204 L 114.24611234407273,22.379267970217292 L 114.256584991643,22.379267970217292 L 114.26082496549479,22.3876011885367 L 114.2817710378991,22.3876011885367 L 114.26905484166579,22.362602103084864 L 114.27952671252737,22.362602103084864 L 114.27105856356725,22.345936994720596 L 114.28152965845992,22.345936994720596 L 114.27729822208964,22.33760472486149 L 114.28776892927509,22.33760472486149 L 114.28353912197508,22.329272644436408 L 114.29400944163812,22.329272644436408 L 114.28978126317571,22.32094075335938 L 114.30025119550103,22.32094075335938 L 114.29602464564381,22.3126090515445 L 114.30649419081608,22.3126090515445 L 114.29804636277248,22.29594621535745 L 114.30851513419242,22.29594621535745 L 114.30007459043165,22.279284135188163 L 114.31054258883722,22.279284135188163 L 114.29789571337197,22.254292430965318 L 114.28742887310517,22.254292430965318 L 114.27480125937863,22.229302423920874 L 114.26433557559263,22.229302423920874 L 114.25172720414507,22.204314111740107 L 114.24126267518335,22.204314111740107 L 114.23706428555502,22.19598505058306 L 114.20567185239054,22.19598505058306 L 114.20986908829816,22.204314111740107 L 114.19940455933643,22.204314111740107 L 114.20360341749374,22.212643360958328 L 114.17220867633617,22.212643360958328 L 114.17640838708853,22.220972798323356 L 114.14501249110674,22.220972798323356 L 114.1408139351786,22.212643360958328 L 114.10941919402104,22.212643360958328 L 114.11361659512495,22.220972798323356 L 114.10315129646436,22.220972798323356 L 114.1199594288365,22.254292430965318 L 114.1094925885697,22.254292430965318 L 114.11790793183877,22.270953378395546 L 114.10744031966378,22.270953378395546 L 114.11165061913137,22.279284135188163 L 114.1011826207258,22.279284135188163 L 114.10960847721378,22.29594621535745 L 114.14101479147358,22.29594621535745 L 114.14523189627451,22.30427753890582 L 114.12429357986686,22.30427753890582 L 114.12851192288754,22.3126090515445 L 114.09710328737073,22.3126090515445 L 114.10132248131998,22.32094075335938 L 114.09085254899468,22.32094075335938 L 114.08663374219847,22.3126090515445 L 114.0761641970262,22.3126090515445 L 114.08038261666937,22.32094075335938 L 114.06991268434403,22.32094075335938 L 114.06569465185393,22.3126090515445 L 114.05522510668166,22.3126090515445 L 114.0510094724401,22.30427753890582 L 114.04054031423627,22.30427753890582 L 114.03632707727428,22.29594621535745 L 114.09913970579386,22.29594621535745 L 114.09071462232022,22.279284135188163 L 114.05931062710351,22.279284135188163 L 114.0635210044857,22.28761508081352 L 114.02164746520357,22.28761508081352 L 114.02585830585436,22.29594621535745 L 114.01538953443445,22.29594621535745 L 114.01960199782864,22.30427753890582 L 114.00913283962483,22.30427753890582 L 114.01756302271744,22.32094075335938 L 113.9966231580668,22.32094075335938 L 114.00928119125082,22.345936994720596 L 113.99881009635817,22.345936994720596 L 114.00303307683896,22.354269454099718 L 113.97161862848492,22.354269454099718 L 113.9673968116802,22.345936994720596 z M 114.27696203283837,22.254292430965318 L 114.26649519257158,22.254292430965318 L 114.26228474863842,22.24596224015613 L 114.27275120322746,22.24596224015613 L 114.27696203283837,22.254292430965318 z M 114.07835478556594,22.33760472486149 L 114.06788407838047,22.33760472486149 L 114.06366240905146,22.329272644436408 L 114.0741327287145,22.329272644436408 L 114.07835478556594,22.33760472486149 z\" /></g></g></svg>"
      ],
      "text/plain": [
       "<shapely.geometry.multipolygon.MultiPolygon at 0x7fcf22935f40>"
      ]
     },
     "execution_count": 4,
     "metadata": {},
     "output_type": "execute_result"
    }
   ],
   "source": [
    "hk_fua"
   ]
  },
  {
   "cell_type": "markdown",
   "metadata": {},
   "source": [
    "### Street network"
   ]
  },
  {
   "cell_type": "code",
   "execution_count": 5,
   "metadata": {},
   "outputs": [
    {
     "name": "stdout",
     "output_type": "stream",
     "text": [
      "CPU times: user 44.7 s, sys: 456 ms, total: 45.2 s\n",
      "Wall time: 1min\n"
     ]
    }
   ],
   "source": [
    "%%time\n",
    "type_filter = '[\"highway\"~\"living_street|motorway|motorway_link|pedestrian|primary|primary_link|residential|secondary|secondary_link|service|tertiary|tertiary_link|trunk|trunk_link\"]'\n",
    "\n",
    "streets_graph = ox.graph_from_polygon(hk_fua, network_type='all_private', custom_filter=type_filter, retain_all=True)\n",
    "streets_graph = ox.projection.project_graph(streets_graph)\n",
    "gdf = ox.graph_to_gdfs(ox.get_undirected(streets_graph), nodes=False, edges=True, node_geometry=False, fill_edge_geometry=True)\n",
    "gdf.highway = gdf.highway.astype(str)\n",
    "path = f'../../urbangrammar_samba/sp_sig_concept/hong_kong/roads_osm.pq'\n",
    "gdf[['highway', 'geometry']].to_parquet(path)"
   ]
  },
  {
   "cell_type": "markdown",
   "metadata": {},
   "source": [
    "### Buildings"
   ]
  },
  {
   "cell_type": "code",
   "execution_count": 6,
   "metadata": {},
   "outputs": [
    {
     "name": "stderr",
     "output_type": "stream",
     "text": [
      "<timed exec>:4: UserWarning: this is an initial implementation of Parquet/Feather file support and associated metadata.  This is tracking version 0.1.0 of the metadata specification at https://github.com/geopandas/geo-arrow-spec\n",
      "\n",
      "This metadata specification does not yet make stability promises.  We do not yet recommend using this in a production setting unless you are able to rewrite your Parquet/Feather files.\n",
      "\n",
      "To further ignore this warning, you can do: \n",
      "import warnings; warnings.filterwarnings('ignore', message='.*initial implementation of Parquet.*')\n"
     ]
    },
    {
     "name": "stdout",
     "output_type": "stream",
     "text": [
      "CPU times: user 1min 21s, sys: 930 ms, total: 1min 22s\n",
      "Wall time: 1min 41s\n"
     ]
    }
   ],
   "source": [
    "%%time\n",
    "footprints = ox.geometries.geometries_from_polygon(hk_fua, tags={'building':True})\n",
    "footprints_proj = ox.projection.project_gdf(footprints)\n",
    "path = f'../../urbangrammar_samba/sp_sig_concept/hong_kong/footprints_osm.pq'\n",
    "footprints_proj[['building', 'building:levels', 'geometry']].to_parquet(path)"
   ]
  },
  {
   "cell_type": "markdown",
   "metadata": {},
   "source": [
    "### Barriers"
   ]
  },
  {
   "cell_type": "code",
   "execution_count": 7,
   "metadata": {},
   "outputs": [
    {
     "name": "stdout",
     "output_type": "stream",
     "text": [
      "CPU times: user 903 ms, sys: 4.28 ms, total: 908 ms\n",
      "Wall time: 4.61 s\n"
     ]
    },
    {
     "name": "stderr",
     "output_type": "stream",
     "text": [
      "<timed exec>:4: UserWarning: this is an initial implementation of Parquet/Feather file support and associated metadata.  This is tracking version 0.1.0 of the metadata specification at https://github.com/geopandas/geo-arrow-spec\n",
      "\n",
      "This metadata specification does not yet make stability promises.  We do not yet recommend using this in a production setting unless you are able to rewrite your Parquet/Feather files.\n",
      "\n",
      "To further ignore this warning, you can do: \n",
      "import warnings; warnings.filterwarnings('ignore', message='.*initial implementation of Parquet.*')\n"
     ]
    }
   ],
   "source": [
    "%%time\n",
    "tags = {'natural': ['water', 'coastline', 'spring']}\n",
    "gdf = ox.geometries_from_polygon(hk_fua, tags)\n",
    "path = f'../../urbangrammar_samba/sp_sig_concept/hong_kong/water_osm.pq'\n",
    "gdf[['natural', 'geometry']].to_parquet(path)"
   ]
  },
  {
   "cell_type": "code",
   "execution_count": 9,
   "metadata": {},
   "outputs": [
    {
     "name": "stderr",
     "output_type": "stream",
     "text": [
      "<ipython-input-9-f76e569f604d>:6: UserWarning: this is an initial implementation of Parquet/Feather file support and associated metadata.  This is tracking version 0.1.0 of the metadata specification at https://github.com/geopandas/geo-arrow-spec\n",
      "\n",
      "This metadata specification does not yet make stability promises.  We do not yet recommend using this in a production setting unless you are able to rewrite your Parquet/Feather files.\n",
      "\n",
      "To further ignore this warning, you can do: \n",
      "import warnings; warnings.filterwarnings('ignore', message='.*initial implementation of Parquet.*')\n",
      "  gdf[['railway', 'geometry']].to_parquet(path)\n"
     ]
    }
   ],
   "source": [
    "tags = {'railway': True}\n",
    "gdf = ox.geometries_from_polygon(hk_fua, tags)\n",
    "gdf = gdf[gdf.geom_type == 'LineString']\n",
    "gdf = gdf[gdf.tunnel != 'yes']\n",
    "path = f'../../urbangrammar_samba/sp_sig_concept/hong_kong/railway_osm.pq'\n",
    "gdf[['railway', 'geometry']].to_parquet(path)"
   ]
  },
  {
   "cell_type": "markdown",
   "metadata": {},
   "source": [
    "## Data preprocessing"
   ]
  },
  {
   "cell_type": "code",
   "execution_count": 13,
   "metadata": {},
   "outputs": [],
   "source": [
    "buildings = gpd.read_parquet('../../urbangrammar_samba/sp_sig_concept/hong_kong/footprints_osm.pq')"
   ]
  },
  {
   "cell_type": "code",
   "execution_count": 15,
   "metadata": {},
   "outputs": [
    {
     "data": {
      "text/plain": [
       "Polygon         43719\n",
       "Point             114\n",
       "MultiPolygon       18\n",
       "LineString          7\n",
       "dtype: int64"
      ]
     },
     "execution_count": 15,
     "metadata": {},
     "output_type": "execute_result"
    }
   ],
   "source": [
    "buildings.geom_type.value_counts()"
   ]
  },
  {
   "cell_type": "code",
   "execution_count": null,
   "metadata": {},
   "outputs": [],
   "source": [
    "buildings = buildings.explode()\n",
    "buildings = buildings[buildings.geom_type == \"Polygon\"]"
   ]
  },
  {
   "cell_type": "code",
   "execution_count": null,
   "metadata": {},
   "outputs": [],
   "source": [
    "ox.geometries_from_polygon(hk_fua, tags={'building':True})"
   ]
  }
 ],
 "metadata": {
  "kernelspec": {
   "display_name": "Python 3",
   "language": "python",
   "name": "python3"
  },
  "language_info": {
   "codemirror_mode": {
    "name": "ipython",
    "version": 3
   },
   "file_extension": ".py",
   "mimetype": "text/x-python",
   "name": "python",
   "nbconvert_exporter": "python",
   "pygments_lexer": "ipython3",
   "version": "3.8.6"
  }
 },
 "nbformat": 4,
 "nbformat_minor": 4
}
