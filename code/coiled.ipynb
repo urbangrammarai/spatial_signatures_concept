{
 "cells": [
  {
   "cell_type": "code",
   "execution_count": 1,
   "metadata": {},
   "outputs": [
    {
     "name": "stdout",
     "output_type": "stream",
     "text": [
      "Creating Cluster. This takes about a minute ...Checking environment images\n",
      "Valid environment image found\n",
      "Dashboard: http://ec2-3-133-112-54.us-east-2.compute.amazonaws.com:8787\n"
     ]
    },
    {
     "name": "stderr",
     "output_type": "stream",
     "text": [
      "/opt/conda/lib/python3.8/site-packages/distributed/client.py:1129: VersionMismatchWarning: Mismatched versions found\n",
      "\n",
      "+-------------+--------+-----------+-----------+\n",
      "| Package     | client | scheduler | workers   |\n",
      "+-------------+--------+-----------+-----------+\n",
      "| blosc       | None   | 1.10.2    | 1.10.2    |\n",
      "| dask        | 2.30.0 | 2021.01.1 | 2021.01.1 |\n",
      "| distributed | 2.30.1 | 2021.01.1 | 2021.01.1 |\n",
      "| lz4         | None   | 3.1.3     | 3.1.3     |\n",
      "| msgpack     | 1.0.0  | 1.0.2     | 1.0.2     |\n",
      "| numpy       | 1.19.4 | 1.19.5    | 1.19.5    |\n",
      "+-------------+--------+-----------+-----------+\n",
      "Notes: \n",
      "-  msgpack: Variation is ok, as long as everything is above 0.6\n",
      "  warnings.warn(version_module.VersionMismatchWarning(msg[0][\"warning\"]))\n"
     ]
    }
   ],
   "source": [
    "import coiled\n",
    "cluster = coiled.Cluster(n_workers=25)\n",
    "\n",
    "from dask.distributed import Client\n",
    "client = Client(cluster)\n",
    "print('Dashboard:', client.dashboard_link)"
   ]
  },
  {
   "cell_type": "code",
   "execution_count": 2,
   "metadata": {},
   "outputs": [
    {
     "data": {
      "text/html": [
       "<table style=\"border: 2px solid white;\">\n",
       "<tr>\n",
       "<td style=\"vertical-align: top; border: 0px solid white\">\n",
       "<h3 style=\"text-align: left;\">Client</h3>\n",
       "<ul style=\"text-align: left; list-style: none; margin: 0; padding: 0;\">\n",
       "  <li><b>Scheduler: </b>tls://ec2-3-133-112-54.us-east-2.compute.amazonaws.com:8786</li>\n",
       "  <li><b>Dashboard: </b><a href='http://ec2-3-133-112-54.us-east-2.compute.amazonaws.com:8787' target='_blank'>http://ec2-3-133-112-54.us-east-2.compute.amazonaws.com:8787</a></li>\n",
       "</ul>\n",
       "</td>\n",
       "<td style=\"vertical-align: top; border: 0px solid white\">\n",
       "<h3 style=\"text-align: left;\">Cluster</h3>\n",
       "<ul style=\"text-align: left; list-style:none; margin: 0; padding: 0;\">\n",
       "  <li><b>Workers: </b>25</li>\n",
       "  <li><b>Cores: </b>100</li>\n",
       "  <li><b>Memory: </b>429.50 GB</li>\n",
       "</ul>\n",
       "</td>\n",
       "</tr>\n",
       "</table>"
      ],
      "text/plain": [
       "<Client: 'tls://10.2.11.84:8786' processes=25 threads=100, memory=429.50 GB>"
      ]
     },
     "execution_count": 2,
     "metadata": {},
     "output_type": "execute_result"
    }
   ],
   "source": [
    "client"
   ]
  },
  {
   "cell_type": "code",
   "execution_count": 4,
   "metadata": {},
   "outputs": [],
   "source": [
    "import dask_geopandas\n",
    "import geopandas as gpd\n",
    "import pandas as pd\n",
    "import dask.dataframe as dd\n",
    "import numpy as np\n",
    "from dask.distributed import Client, LocalCluster\n",
    "import pygeos"
   ]
  },
  {
   "cell_type": "code",
   "execution_count": 5,
   "metadata": {},
   "outputs": [],
   "source": [
    "def dask_dissolve(ddf, by=None, aggfunc=\"first\"):\n",
    "    \"\"\"\n",
    "    ddf should be sorted according to `by` for the best performance\n",
    "    \n",
    "    n_partitoins should be approximately workers * 4\n",
    "    \n",
    "    In case geometry columns is no called \"geometry\" it needs to be reassigned after `.compute()`\n",
    "    \"\"\"    \n",
    "    def _partition_dissolve(partition, by=None, aggfunc=\"first\", geometry_name=\"geometry\"):\n",
    "        \n",
    "        if by is None:\n",
    "            by = np.zeros(len(partition), dtype=\"int64\")\n",
    "\n",
    "        # Process non-spatial component\n",
    "        data = partition.drop(labels=geometry_name, axis=1)\n",
    "        aggregated_data = data.groupby(by=by).agg(aggfunc)\n",
    "\n",
    "        # Process spatial component\n",
    "        def merge_geometries(block):\n",
    "            merged_geom = block.unary_union\n",
    "            return merged_geom\n",
    "\n",
    "        g = partition.groupby(by=by, group_keys=False)[geometry_name].agg(\n",
    "            merge_geometries\n",
    "        )\n",
    "\n",
    "        # Aggregate\n",
    "        aggregated_geometry = gpd.GeoDataFrame(g, geometry=geometry_name, crs=partition.crs)\n",
    "        # Recombine\n",
    "        aggregated = aggregated_geometry.join(aggregated_data)\n",
    "\n",
    "        aggregated = aggregated.reset_index()\n",
    "\n",
    "        return aggregated\n",
    "    \n",
    "    geometry_name = ddf.geometry.name\n",
    "    cols = ddf.columns.to_list()\n",
    "    cols.remove(geometry_name)\n",
    "    \n",
    "    if by is None:\n",
    "        cols.insert(0, 'index')\n",
    "        cols.insert(1, geometry_name)\n",
    "    else:\n",
    "        cols.remove(by)\n",
    "        cols.insert(0, by)\n",
    "        cols.insert(1, geometry_name)\n",
    "    \n",
    "    first_step = ddf.map_partitions(_partition_dissolve, by=by, geometry_name=geometry_name, aggfunc=aggfunc, meta=gpd.GeoDataFrame(columns=cols))\n",
    "    \n",
    "    if by is None:\n",
    "        pre_second = first_step.set_index('index')\n",
    "    else:\n",
    "        pre_second = first_step.set_index(by)\n",
    "    \n",
    "    second_step = pre_second.map_partitions(_partition_dissolve, by=by, geometry_name=geometry_name, aggfunc=aggfunc, meta=gpd.GeoDataFrame(columns=cols))\n",
    "    \n",
    "    return second_step"
   ]
  },
  {
   "cell_type": "code",
   "execution_count": 6,
   "metadata": {},
   "outputs": [],
   "source": [
    "tess = gpd.read_parquet(\"../../../urbangrammar_samba/sp_sig_concept/barcelona/tess.pq\", columns=['tessellation']).rename_geometry(\"geometry\")"
   ]
  },
  {
   "cell_type": "code",
   "execution_count": 7,
   "metadata": {},
   "outputs": [],
   "source": [
    "clusters = pd.read_csv(\"../../../urbangrammar_samba/sp_sig_concept/barcelona/FINAL_cluster_labels.csv\", index_col=0)"
   ]
  },
  {
   "cell_type": "code",
   "execution_count": 8,
   "metadata": {},
   "outputs": [],
   "source": [
    "tess['cluster'] = clusters.clusters.values"
   ]
  },
  {
   "cell_type": "code",
   "execution_count": 9,
   "metadata": {},
   "outputs": [
    {
     "ename": "AttributeError",
     "evalue": "module 'dask_geopandas' has no attribute 'from_geopandas'",
     "output_type": "error",
     "traceback": [
      "\u001b[0;31m---------------------------------------------------------------------------\u001b[0m",
      "\u001b[0;31mAttributeError\u001b[0m                            Traceback (most recent call last)",
      "\u001b[0;32m<timed exec>\u001b[0m in \u001b[0;36m<module>\u001b[0;34m\u001b[0m\n",
      "\u001b[0;31mAttributeError\u001b[0m: module 'dask_geopandas' has no attribute 'from_geopandas'"
     ]
    }
   ],
   "source": [
    "%%time\n",
    "ddf = dask_geopandas.from_geopandas(tess, npartitions=64)\n",
    "final = dask_dissolve(ddf, by='cluster').compute()"
   ]
  },
  {
   "cell_type": "code",
   "execution_count": 10,
   "metadata": {},
   "outputs": [],
   "source": [
    "client.close()"
   ]
  },
  {
   "cell_type": "code",
   "execution_count": 12,
   "metadata": {},
   "outputs": [],
   "source": [
    "cluster.close()"
   ]
  },
  {
   "cell_type": "code",
   "execution_count": null,
   "metadata": {},
   "outputs": [],
   "source": []
  }
 ],
 "metadata": {
  "kernelspec": {
   "display_name": "Python 3",
   "language": "python",
   "name": "python3"
  },
  "language_info": {
   "codemirror_mode": {
    "name": "ipython",
    "version": 3
   },
   "file_extension": ".py",
   "mimetype": "text/x-python",
   "name": "python",
   "nbconvert_exporter": "python",
   "pygments_lexer": "ipython3",
   "version": "3.8.6"
  }
 },
 "nbformat": 4,
 "nbformat_minor": 4
}
